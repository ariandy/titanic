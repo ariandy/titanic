{
 "cells": [
  {
   "cell_type": "code",
   "execution_count": 1,
   "metadata": {},
   "outputs": [],
   "source": [
    "import pandas as pd\n",
    "\n",
    "df = pd.read_csv(\"../../data/raw/train.csv\", index_col=\"PassengerId\")\n",
    "df.drop(columns=[\"Name\", \"Cabin\", \"Ticket\"], inplace=True)\n",
    "# Membuat column baru berdasarkan untuk mengetahui awak kapal sendirian atau bersama orang lain\n",
    "df[\"isAlone\"] = (df[\"SibSp\"] == 0) & (df[\"Parch\"] == 0)\n",
    "# Mengubah Age juga Fare yang semula numeric menjadi categoric dengan metode Binning\n",
    "# Binning dilakukan dengan method .cut pada pandas.\n",
    "# INGAT, pd.cut() memberlakukan inplace pada outputnya. Jangan run lebih dari 1 kali apabila menjalankannya di notebook\n",
    "df[\"Age\"] = pd.cut(df[\"Age\"], [0, 5, 12, 18, 40, 120], labels=[\"balita\", \"anak-anak\", \"remaja\", \"dewasa\", \"lansia\"])\n",
    "df[\"Fare\"] = pd.cut(df[\"Fare\"], [0, 25, 100, 600], labels=[\"cheap\", \"expensive\", \"VIP\"])\n",
    "df.to_csv(\"../../data/interim/for-strategy3.csv\")"
   ]
  },
  {
   "cell_type": "code",
   "execution_count": 4,
   "metadata": {},
   "outputs": [],
   "source": [
    "import pandas as pd\n",
    "\n",
    "df = pd.read_csv(\"../../data/raw/train.csv\", index_col=\"PassengerId\")\n",
    "df.drop(columns=[\"Cabin\", \"Ticket\"], inplace=True)\n",
    "# Membuat column baru berdasarkan untuk mengetahui awak kapal sendirian atau bersama orang lain\n",
    "df[\"isAlone\"] = (df[\"SibSp\"] == 0) & (df[\"Parch\"] == 0)\n",
    "# Mengubah Age juga Fare yang semula numeric menjadi categoric dengan metode Binning\n",
    "# Binning dilakukan dengan method .cut pada pandas.\n",
    "# INGAT, pd.cut() memberlakukan inplace pada outputnya. Jangan run lebih dari 1 kali apabila menjalankannya di notebook\n",
    "df[\"Age\"] = pd.cut(df[\"Age\"], [0, 5, 12, 18, 40, 120], labels=[\"balita\", \"anak-anak\", \"remaja\", \"dewasa\", \"lansia\"])\n",
    "df[\"Fare\"] = pd.cut(df[\"Fare\"], [0, 25, 100, 600], labels=[\"cheap\", \"expensive\", \"VIP\"])\n",
    "\n",
    "df[\"Title\"] = df[\"Name\"].apply(lambda x: (x.split(\", \")[1].split(\".\")[0]))\n",
    "df.drop(columns=\"Name\", inplace=True)\n",
    "\n",
    "def title_grouping(x):\n",
    "    if x in [\"Mr\", \"Miss\", \"Mrs\", \"Master\"]:\n",
    "        return x\n",
    "    else:\n",
    "        return \"other\"\n",
    "    \n",
    "df[\"Title\"] = df[\"Title\"].apply(title_grouping)\n",
    "df.to_csv(\"../../data/interim/for-strategy4.csv\")"
   ]
  },
  {
   "cell_type": "code",
   "execution_count": 3,
   "metadata": {},
   "outputs": [],
   "source": [
    "import pandas as pd\n",
    "\n",
    "df = pd.read_csv(\"../../data/raw/train.csv\", index_col=\"PassengerId\")\n",
    "df.drop(columns=[\"Name\", \"Cabin\", \"Ticket\"], inplace=True)\n",
    "# Membuat column baru berdasarkan untuk mengetahui awak kapal sendirian atau bersama orang lain\n",
    "df[\"isAlone\"] = (df[\"SibSp\"] == 0) & (df[\"Parch\"] == 0)\n",
    "# Mengubah Age juga Fare yang semula numeric menjadi categoric dengan metode Binning\n",
    "# Binning dilakukan dengan method .cut pada pandas.\n",
    "# INGAT, pd.cut() memberlakukan inplace pada outputnya. Jangan run lebih dari 1 kali apabila menjalankannya di notebook\n",
    "df[\"Age\"] = pd.cut(df[\"Age\"], [0, 5, 12, 18, 40, 120], labels=[\"balita\", \"anak-anak\", \"remaja\", \"dewasa\", \"lansia\"])\n",
    "df[\"Fare\"] = pd.cut(df[\"Fare\"], [0, 25, 50, 75, 600], labels=[\"cheap\", \"medium\", \"expensive\", \"VIP\"])\n",
    "df.to_csv(\"../../data/interim/for-strategy5.csv\")"
   ]
  },
  {
   "cell_type": "code",
   "execution_count": null,
   "metadata": {},
   "outputs": [],
   "source": []
  }
 ],
 "metadata": {
  "kernelspec": {
   "display_name": "Python 3",
   "language": "python",
   "name": "python3"
  },
  "language_info": {
   "codemirror_mode": {
    "name": "ipython",
    "version": 3
   },
   "file_extension": ".py",
   "mimetype": "text/x-python",
   "name": "python",
   "nbconvert_exporter": "python",
   "pygments_lexer": "ipython3",
   "version": "3.8.3"
  }
 },
 "nbformat": 4,
 "nbformat_minor": 4
}
